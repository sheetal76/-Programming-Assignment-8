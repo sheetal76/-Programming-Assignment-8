{
  "cells": [
    {
      "cell_type": "code",
      "execution_count": null,
      "metadata": {
        "id": "-GPXjeWpjQQD"
      },
      "outputs": [],
      "source": [
        "#1. Write a Python Program to Add Two Matrices?"
      ]
    },
    {
      "cell_type": "code",
      "source": [
        "def add_matrices(matrix1, matrix2):\n",
        "    result = [[0 for _ in range(len(matrix1[0]))] for _ in range(len(matrix1))]\n",
        "\n",
        "    for i in range(len(matrix1)):\n",
        "        for j in range(len(matrix1[0])):\n",
        "            result[i][j] = matrix1[i][j] + matrix2[i][j]\n",
        "\n",
        "    return result\n",
        "\n",
        "# Example matrices\n",
        "matrix1 = [\n",
        "    [1, 2, 3],\n",
        "    [4, 5, 6],\n",
        "    [7, 8, 9]\n",
        "]\n",
        "\n",
        "matrix2 = [\n",
        "    [9, 8, 7],\n",
        "    [6, 5, 4],\n",
        "    [3, 2, 1]\n",
        "]\n",
        "\n",
        "result_matrix = add_matrices(matrix1, matrix2)\n",
        "\n",
        "# Displaying the result\n",
        "print(\"Matrix 1:\")\n",
        "for row in matrix1:\n",
        "    print(row)\n",
        "\n",
        "print(\"\\nMatrix 2:\")\n",
        "for row in matrix2:\n",
        "    print(row)\n",
        "\n",
        "print(\"\\nResultant Matrix:\")\n",
        "for row in result_matrix:\n",
        "    print(row)\n"
      ],
      "metadata": {
        "colab": {
          "base_uri": "https://localhost:8080/"
        },
        "id": "CPRF7h-Qe1IQ",
        "outputId": "f7fdf30e-0278-45a7-e52e-1ce6e86049ca"
      },
      "execution_count": 4,
      "outputs": [
        {
          "output_type": "stream",
          "name": "stdout",
          "text": [
            "Matrix 1:\n",
            "[1, 2, 3]\n",
            "[4, 5, 6]\n",
            "[7, 8, 9]\n",
            "\n",
            "Matrix 2:\n",
            "[9, 8, 7]\n",
            "[6, 5, 4]\n",
            "[3, 2, 1]\n",
            "\n",
            "Resultant Matrix:\n",
            "[10, 10, 10]\n",
            "[10, 10, 10]\n",
            "[10, 10, 10]\n"
          ]
        }
      ]
    },
    {
      "cell_type": "code",
      "execution_count": null,
      "metadata": {
        "id": "VsZZ8UgFjnfP"
      },
      "outputs": [],
      "source": [
        "#2. Write a Python Program to Multiply Two Matrices?\n"
      ]
    },
    {
      "cell_type": "code",
      "source": [
        "def multiply_matrices(matrix1, matrix2):\n",
        "    result = [[0 for _ in range(len(matrix2[0]))] for _ in range(len(matrix1))]\n",
        "\n",
        "    for i in range(len(matrix1)):\n",
        "        for j in range(len(matrix2[0])):\n",
        "            for k in range(len(matrix2)):\n",
        "                result[i][j] += matrix1[i][k] * matrix2[k][j]\n",
        "\n",
        "    return result\n",
        "\n",
        "# Example matrices\n",
        "matrix1 = [\n",
        "    [1, 2, 3],\n",
        "    [4, 5, 6],\n",
        "    [7, 8, 9]\n",
        "]\n",
        "\n",
        "matrix2 = [\n",
        "    [9, 8, 7],\n",
        "    [6, 5, 4],\n",
        "    [3, 2, 1]\n",
        "]\n",
        "\n",
        "result_matrix = multiply_matrices(matrix1, matrix2)\n",
        "\n",
        "# Displaying the result\n",
        "print(\"Matrix 1:\")\n",
        "for row in matrix1:\n",
        "    print(row)\n",
        "\n",
        "print(\"\\nMatrix 2:\")\n",
        "for row in matrix2:\n",
        "    print(row)\n",
        "\n",
        "print(\"\\nResultant Matrix:\")\n",
        "for row in result_matrix:\n",
        "    print(row)\n"
      ],
      "metadata": {
        "colab": {
          "base_uri": "https://localhost:8080/"
        },
        "id": "yu9KyiYNeGGA",
        "outputId": "6cfd9b0b-4361-4dc6-eb1d-3a3f32df4abe"
      },
      "execution_count": 5,
      "outputs": [
        {
          "output_type": "stream",
          "name": "stdout",
          "text": [
            "Matrix 1:\n",
            "[1, 2, 3]\n",
            "[4, 5, 6]\n",
            "[7, 8, 9]\n",
            "\n",
            "Matrix 2:\n",
            "[9, 8, 7]\n",
            "[6, 5, 4]\n",
            "[3, 2, 1]\n",
            "\n",
            "Resultant Matrix:\n",
            "[30, 24, 18]\n",
            "[84, 69, 54]\n",
            "[138, 114, 90]\n"
          ]
        }
      ]
    },
    {
      "cell_type": "code",
      "execution_count": null,
      "metadata": {
        "id": "nHtg0I8yjxdj"
      },
      "outputs": [],
      "source": [
        "#3. Write a Python Program to Transpose a Matrix?\n"
      ]
    },
    {
      "cell_type": "code",
      "execution_count": 1,
      "metadata": {
        "colab": {
          "base_uri": "https://localhost:8080/"
        },
        "id": "GnKjKmNiloqT",
        "outputId": "07abe4c3-c87e-429e-eb46-21bf292ab44a"
      },
      "outputs": [
        {
          "output_type": "stream",
          "name": "stdout",
          "text": [
            "Enter the number of rows in the matrix: 3\n",
            "Enter the number of columns in the matrix: 3\n",
            "Enter the elements of the matrix:\n",
            "Enter element at position (1, 1): 2\n",
            "Enter element at position (1, 2): 4\n",
            "Enter element at position (1, 3): 6\n",
            "Enter element at position (2, 1): 3\n",
            "Enter element at position (2, 2): 6\n",
            "Enter element at position (2, 3): 9\n",
            "Enter element at position (3, 1): 4\n",
            "Enter element at position (3, 2): 8\n",
            "Enter element at position (3, 3): 12\n",
            "\n",
            "Original Matrix:\n",
            "[2, 4, 6]\n",
            "[3, 6, 9]\n",
            "[4, 8, 12]\n",
            "\n",
            "Transposed Matrix:\n",
            "[2, 3, 4]\n",
            "[4, 6, 8]\n",
            "[6, 9, 12]\n"
          ]
        }
      ],
      "source": [
        "def transpose_matrix(matrix):\n",
        "    return [[matrix[j][i] for j in range(len(matrix))] for i in range(len(matrix[0]))]\n",
        "\n",
        "# Taking input from the user\n",
        "rows = int(input(\"Enter the number of rows in the matrix: \"))\n",
        "columns = int(input(\"Enter the number of columns in the matrix: \"))\n",
        "\n",
        "matrix = []\n",
        "\n",
        "print(\"Enter the elements of the matrix:\")\n",
        "for i in range(rows):\n",
        "    row = []\n",
        "    for j in range(columns):\n",
        "        element = int(input(f\"Enter element at position ({i+1}, {j+1}): \"))\n",
        "        row.append(element)\n",
        "    matrix.append(row)\n",
        "\n",
        "# Transposing the matrix\n",
        "transposed_matrix = transpose_matrix(matrix)\n",
        "\n",
        "# Displaying the original and transposed matrices\n",
        "print(\"\\nOriginal Matrix:\")\n",
        "for row in matrix:\n",
        "    print(row)\n",
        "\n",
        "print(\"\\nTransposed Matrix:\")\n",
        "for row in transposed_matrix:\n",
        "    print(row)\n"
      ]
    },
    {
      "cell_type": "code",
      "execution_count": null,
      "metadata": {
        "id": "FrTHaI-Hj1zJ"
      },
      "outputs": [],
      "source": [
        "#4. Write a Python Program to Sort Words in Alphabetic Order?"
      ]
    },
    {
      "cell_type": "code",
      "execution_count": null,
      "metadata": {
        "colab": {
          "base_uri": "https://localhost:8080/"
        },
        "id": "oacAGcL2lWUj",
        "outputId": "248177e0-4ac5-417b-ee74-4f14de8de22c"
      },
      "outputs": [
        {
          "name": "stdout",
          "output_type": "stream",
          "text": [
            "Enter a sentence: This is sheetal\n",
            "Words in alphabetical order: This is sheetal\n"
          ]
        }
      ],
      "source": [
        "def sort_words(input_string):\n",
        "    words = input_string.split()\n",
        "    words.sort()\n",
        "    return ' '.join(words)\n",
        "\n",
        "# Taking input from the user\n",
        "sentence = input(\"Enter a sentence: \")\n",
        "\n",
        "result = sort_words(sentence)\n",
        "\n",
        "print(f\"Words in alphabetical order: {result}\")\n"
      ]
    },
    {
      "cell_type": "code",
      "execution_count": null,
      "metadata": {
        "id": "K8Bprpldj6jT"
      },
      "outputs": [],
      "source": [
        "#5. Write a Python Program to Remove Punctuation From a String?"
      ]
    },
    {
      "cell_type": "code",
      "execution_count": null,
      "metadata": {
        "colab": {
          "base_uri": "https://localhost:8080/"
        },
        "id": "-0OpO6-tkLqA",
        "outputId": "de807f0a-ceac-4431-f2a0-916b0f764979"
      },
      "outputs": [
        {
          "name": "stdout",
          "output_type": "stream",
          "text": [
            "Enter a string with punctuation: Hello,world\n",
            "String after removing punctuation: Helloworld\n"
          ]
        }
      ],
      "source": [
        "import string\n",
        "\n",
        "def remove_punctuation(input_string):\n",
        "    return input_string.translate(str.maketrans(\"\", \"\", string.punctuation))\n",
        "\n",
        "# Taking input from the user\n",
        "text = input(\"Enter a string with punctuation: \")\n",
        "\n",
        "result = remove_punctuation(text)\n",
        "\n",
        "print(f\"String after removing punctuation: {result}\")\n"
      ]
    },
    {
      "cell_type": "code",
      "execution_count": null,
      "metadata": {
        "id": "5YZ4BBrlkd1-"
      },
      "outputs": [],
      "source": []
    }
  ],
  "metadata": {
    "colab": {
      "provenance": []
    },
    "kernelspec": {
      "display_name": "Python 3",
      "name": "python3"
    },
    "language_info": {
      "name": "python"
    }
  },
  "nbformat": 4,
  "nbformat_minor": 0
}